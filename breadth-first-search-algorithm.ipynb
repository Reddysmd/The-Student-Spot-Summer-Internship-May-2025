{
 "cells": [
  {
   "cell_type": "markdown",
   "id": "a800b976",
   "metadata": {
    "papermill": {
     "duration": 0.002993,
     "end_time": "2023-12-22T22:54:00.447367",
     "exception": false,
     "start_time": "2023-12-22T22:54:00.444374",
     "status": "completed"
    },
    "tags": []
   },
   "source": [
    "# Breadth-First Search Algorithm\n",
    "\n",
    "Breadth-first search (BFS) algorithm is used for tree traversal on graph or tree-like data structures. It is implemented in python with a queue that adopts a first-in-first-out policy. \n",
    "\n",
    "The general algorithm for a BFS search is: \n",
    "\n",
    "1. Pick any node. If it is unvisited, mark it as visited and add its neighbouring nodes to the queue.\n",
    "2. If there is no more remaining neighbours then remove the first node from the queue and continue until the que is empty.\n",
    "\n",
    "![bfs](https://liamjhealy.github.io/images/programming/bfs.png#center)\n",
    "\n",
    "DFS algorithms are often implemented when the tree is wide and not very deep or when the objective is to find the shortest path to a particular node.\n",
    "\n",
    "The code below demonstrates the implementation of a BFS algorithm in Python. The graph above is first stored as a dictionary to illustrate this example.\n"
   ]
  },
  {
   "cell_type": "code",
   "execution_count": 2,
   "id": "8cb6936f",
   "metadata": {
    "execution": {
     "iopub.execute_input": "2023-12-22T22:54:00.454130Z",
     "iopub.status.busy": "2023-12-22T22:54:00.453711Z",
     "iopub.status.idle": "2023-12-22T22:54:00.465857Z",
     "shell.execute_reply": "2023-12-22T22:54:00.465029Z"
    },
    "papermill": {
     "duration": 0.018,
     "end_time": "2023-12-22T22:54:00.468021",
     "exception": false,
     "start_time": "2023-12-22T22:54:00.450021",
     "status": "completed"
    },
    "tags": []
   },
   "outputs": [],
   "source": [
    "graph = {\n",
    "    'A' : ['B','C'],\n",
    "    'B' : ['D', 'E'],\n",
    "    'C' : ['F'],\n",
    "    'D' : [],\n",
    "    'E' : [],\n",
    "    'F' : []\n",
    "}"
   ]
  },
  {
   "cell_type": "markdown",
   "id": "36684b41",
   "metadata": {
    "papermill": {
     "duration": 0.002477,
     "end_time": "2023-12-22T22:54:00.473223",
     "exception": false,
     "start_time": "2023-12-22T22:54:00.470746",
     "status": "completed"
    },
    "tags": []
   },
   "source": [
    "his algorithm is implemented by defining an empty set <code>visited = set()</code> to store the value of the nodes as we traverse them. Using a set instead of a list is optimal in this case because we only intent to visit each node once and its quicker to lookup stored values in a set rather than a list (the <code>in</code> operator has a time complexity of $O(1)$ for a set). We also initialise a queue which will hold the neighbouring nodes which have not yet been visited.\n",
    "\n",
    "For each node that that has not yet been visited, we simply add it to our visited set and to the queue. Once a node does not have any more neighbours to add to the queue, we take the next node from the queue and continue on."
   ]
  },
  {
   "cell_type": "code",
   "execution_count": 3,
   "id": "7a3a3a3c",
   "metadata": {
    "execution": {
     "iopub.execute_input": "2023-12-22T22:54:00.479948Z",
     "iopub.status.busy": "2023-12-22T22:54:00.479510Z",
     "iopub.status.idle": "2023-12-22T22:54:00.487103Z",
     "shell.execute_reply": "2023-12-22T22:54:00.486067Z"
    },
    "papermill": {
     "duration": 0.013716,
     "end_time": "2023-12-22T22:54:00.489406",
     "exception": false,
     "start_time": "2023-12-22T22:54:00.475690",
     "status": "completed"
    },
    "tags": []
   },
   "outputs": [],
   "source": [
    "# initialise an empty visited set\n",
    "visited = set()\n",
    "\n",
    "def bfs(visited, graph, node):\n",
    "    '''\n",
    "    :type visited: set\n",
    "    :type graph: dictionary\n",
    "    :type note: string\n",
    "    :rtype: None\n",
    "    '''\n",
    "\n",
    "    # initialise an empty queue list\n",
    "    queue = []\n",
    "    visited.add(node)\n",
    "    queue.append(node)\n",
    "\n",
    "    # while the queue is not empty\n",
    "    while queue:\n",
    "\n",
    "        # pop the first element in the queue\n",
    "        s = queue.pop(0) \n",
    "\n",
    "        # add each unvisited neighbour to the end of the queue\n",
    "        for neighbour in graph[s]:\n",
    "            if neighbour not in visited:\n",
    "                visited.add(neighbour)\n",
    "                queue.append(neighbour)\n",
    "\n",
    "# execute the function\n",
    "bfs(visited, graph, 'A')"
   ]
  },
  {
   "cell_type": "markdown",
   "id": "cf317b47",
   "metadata": {
    "papermill": {
     "duration": 0.002279,
     "end_time": "2023-12-22T22:54:00.494431",
     "exception": false,
     "start_time": "2023-12-22T22:54:00.492152",
     "status": "completed"
    },
    "tags": []
   },
   "source": [
    "The time complexity of of BFS is generally considered to be $O(V)$ where $V$ is the number of nodes. Both DFS and BFS have the same average time complexity, so the decision to chose one algorithm over the other is dependent on the specific problem.\n",
    "\n",
    "## Summary\n",
    "\n",
    "Breadth-First Search (BFS) is a graph traversal algorithm that systematically explores vertices level by level, visiting neighbors before moving on to the next level. In algorithm design, BFS is effective for shortest path finding and analyzing graphs.\n",
    "\n",
    "Python can leverage BFS using a queue data structure. The straightforward implementation of BFS in Python benefits from the language's ease of handling queues and manipulating data structures. Its simplicity and readability make Python a suitable choice for algorithm design involving BFS, particularly in scenarios where the shortest path or level-based exploration is crucial."
   ]
  }
 ],
 "metadata": {
  "kaggle": {
   "accelerator": "none",
   "dataSources": [],
   "dockerImageVersionId": 30626,
   "isGpuEnabled": false,
   "isInternetEnabled": true,
   "language": "python",
   "sourceType": "notebook"
  },
  "kernelspec": {
   "display_name": "base",
   "language": "python",
   "name": "python3"
  },
  "language_info": {
   "codemirror_mode": {
    "name": "ipython",
    "version": 3
   },
   "file_extension": ".py",
   "mimetype": "text/x-python",
   "name": "python",
   "nbconvert_exporter": "python",
   "pygments_lexer": "ipython3",
   "version": "3.12.7"
  },
  "papermill": {
   "default_parameters": {},
   "duration": 3.789899,
   "end_time": "2023-12-22T22:54:00.816471",
   "environment_variables": {},
   "exception": null,
   "input_path": "__notebook__.ipynb",
   "output_path": "__notebook__.ipynb",
   "parameters": {},
   "start_time": "2023-12-22T22:53:57.026572",
   "version": "2.4.0"
  }
 },
 "nbformat": 4,
 "nbformat_minor": 5
}
