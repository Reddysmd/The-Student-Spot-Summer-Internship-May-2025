{
 "cells": [
  {
   "cell_type": "markdown",
   "id": "79b5f95a",
   "metadata": {
    "papermill": {
     "duration": 0.002526,
     "end_time": "2023-12-22T22:32:29.952090",
     "exception": false,
     "start_time": "2023-12-22T22:32:29.949564",
     "status": "completed"
    },
    "tags": []
   },
   "source": [
    "# Depth-First Search Algorithm\n",
    "\n",
    "Depth-first search (DFS) algorithm is used for tree traversal on graph or tree-like data structures. It can be implemented using recursion and data structures like dictionaries and sets in Python. \n",
    "\n",
    "The general algorithm is as follows:\n",
    "\n",
    "1. Pick any node. If it is unvisited, mark it as visited and recur on all its adjacent nodes.\n",
    "2. Repeat until all the nodes are visited, or the node to be searched is found.\n",
    "\n",
    "![dfs](https://liamjhealy.github.io/images/programming/dfs.png#center)\n",
    "\n",
    "\n",
    "DFS algorithms are often implemented in the simulation of games where the number of decisions in the future could be very large, i.e. a deep tree.\n",
    "\n",
    "The code below demonstrates the implementation of a DFS algorithm in Python. The graph above is first stored as a dictionary to illustrate this example."
   ]
  },
  {
   "cell_type": "code",
   "execution_count": 1,
   "id": "6f3cec9e",
   "metadata": {
    "execution": {
     "iopub.execute_input": "2023-12-22T22:32:29.957708Z",
     "iopub.status.busy": "2023-12-22T22:32:29.957339Z",
     "iopub.status.idle": "2023-12-22T22:32:29.969220Z",
     "shell.execute_reply": "2023-12-22T22:32:29.967738Z"
    },
    "papermill": {
     "duration": 0.017479,
     "end_time": "2023-12-22T22:32:29.971605",
     "exception": false,
     "start_time": "2023-12-22T22:32:29.954126",
     "status": "completed"
    },
    "tags": []
   },
   "outputs": [],
   "source": [
    "graph = {\n",
    "    'A' : ['B','C'],\n",
    "    'B' : ['D', 'E'],\n",
    "    'C' : ['F'],\n",
    "    'D' : [],\n",
    "    'E' : [],\n",
    "    'F' : []\n",
    "}"
   ]
  },
  {
   "cell_type": "markdown",
   "id": "5d76bc61",
   "metadata": {
    "papermill": {
     "duration": 0.001573,
     "end_time": "2023-12-22T22:32:29.975248",
     "exception": false,
     "start_time": "2023-12-22T22:32:29.973675",
     "status": "completed"
    },
    "tags": []
   },
   "source": [
    "This algorithm is implemented by defining an empty set <code>visited = set()</code> to store the value of the nodes as we traverse them. Using a set instead of a list is optimal in this case because we only intent to visit each node once and its quicker to lookup stored values in a set rather than a list (the <code>in</code> operator has a time complexity of $O(1)$ for a set).\n",
    "\n",
    "For each node that that has not yet been visited, we simply add it to our visited set and continue searching its neighbours. Recursion is used to continue the search until we reach the desired node or search the whole tree"
   ]
  },
  {
   "cell_type": "code",
   "execution_count": 2,
   "id": "531416a3",
   "metadata": {
    "execution": {
     "iopub.execute_input": "2023-12-22T22:32:29.981311Z",
     "iopub.status.busy": "2023-12-22T22:32:29.980063Z",
     "iopub.status.idle": "2023-12-22T22:32:29.987693Z",
     "shell.execute_reply": "2023-12-22T22:32:29.986364Z"
    },
    "papermill": {
     "duration": 0.013021,
     "end_time": "2023-12-22T22:32:29.990002",
     "exception": false,
     "start_time": "2023-12-22T22:32:29.976981",
     "status": "completed"
    },
    "tags": []
   },
   "outputs": [],
   "source": [
    "# initialise an empty visited set\n",
    "visited = set()\n",
    "\n",
    "def dfs_no_recursive(visited, graph, node):\n",
    "    '''\n",
    "    :type visited: set\n",
    "    :type graph: dictionary\n",
    "    :type node: string\n",
    "    :rtype: None\n",
    "    '''\n",
    "\n",
    "    # initiate the stack\n",
    "    stack = [node]\n",
    "\n",
    "    # continue while the stack is not empty\n",
    "    while(len(stack) > 0):\n",
    "\n",
    "        # pop the element from the end of the stack\n",
    "        s = stack.pop()\n",
    "\n",
    "        # if the node has not been visited then continue down the tree\n",
    "        if s not in visited:\n",
    "            visited.add(s)\n",
    "\n",
    "            # append the neighbours to the stack\n",
    "            for neighbour in graph[s]:\n",
    "                stack.append(neighbour)\n",
    "\n",
    "# execute the function\n",
    "dfs_no_recursive(visited, graph, 'A')"
   ]
  },
  {
   "cell_type": "code",
   "execution_count": 3,
   "id": "a0fde81d",
   "metadata": {
    "execution": {
     "iopub.execute_input": "2023-12-22T22:32:29.995891Z",
     "iopub.status.busy": "2023-12-22T22:32:29.995487Z",
     "iopub.status.idle": "2023-12-22T22:32:30.000801Z",
     "shell.execute_reply": "2023-12-22T22:32:29.999965Z"
    },
    "papermill": {
     "duration": 0.010906,
     "end_time": "2023-12-22T22:32:30.003044",
     "exception": false,
     "start_time": "2023-12-22T22:32:29.992138",
     "status": "completed"
    },
    "tags": []
   },
   "outputs": [],
   "source": [
    "# initialise an empty visited set\n",
    "visited = set()\n",
    "\n",
    "def dfs_recursion(visited, graph, node):\n",
    "    '''\n",
    "    :type visited: set\n",
    "    :type graph: dictionary\n",
    "    :type node: string\n",
    "    :rtype: None\n",
    "    '''\n",
    "    \n",
    "    # continue if node has not been visited\n",
    "    if node not in visited:\n",
    "        visited.add(node)\n",
    "\n",
    "        # recursively execute the function on node's neighbours\n",
    "        for neighbour in graph[node]:\n",
    "            dfs_recursion(visited, graph, neighbour)\n",
    "\n",
    "# execute the function\n",
    "dfs_recursion(visited, graph, 'A')"
   ]
  },
  {
   "cell_type": "markdown",
   "id": "dc20b875",
   "metadata": {
    "papermill": {
     "duration": 0.002072,
     "end_time": "2023-12-22T22:32:30.007639",
     "exception": false,
     "start_time": "2023-12-22T22:32:30.005567",
     "status": "completed"
    },
    "tags": []
   },
   "source": [
    "An alternative to DFS algorithms is Breadth-First search (BFS) which is cover in a different article and instead of using recursion with a stack that is executed in a first-in-last-out order, it instead creates a queue which executes in a first-in-first-out order.\n",
    "\n",
    "The time complexity of of DFS is generally considered to be $O(V)$ where $V$ is the number of nodes.\n",
    "\n",
    "## Summary\n",
    "\n",
    "\n",
    "Depth-First Search (DFS) is a graph traversal algorithm that systematically explores vertices by going as deep as possible along each branch before backtracking. In algorithm design, DFS is useful for tasks like finding paths, topological sorting, and connected component analysis.\n",
    "\n",
    "Python leverages DFS through recursion or an explicit stack. The algorithm can be implemented concisely in Python due to its high-level constructs. The recursive nature of DFS aligns well with Python's simplicity, making it an effective choice for graph-related problem-solving and algorithmic design."
   ]
  }
 ],
 "metadata": {
  "kaggle": {
   "accelerator": "none",
   "dataSources": [],
   "dockerImageVersionId": 30626,
   "isGpuEnabled": false,
   "isInternetEnabled": true,
   "language": "python",
   "sourceType": "notebook"
  },
  "kernelspec": {
   "display_name": "base",
   "language": "python",
   "name": "python3"
  },
  "language_info": {
   "codemirror_mode": {
    "name": "ipython",
    "version": 3
   },
   "file_extension": ".py",
   "mimetype": "text/x-python",
   "name": "python",
   "nbconvert_exporter": "python",
   "pygments_lexer": "ipython3",
   "version": "3.12.7"
  },
  "papermill": {
   "default_parameters": {},
   "duration": 6.223128,
   "end_time": "2023-12-22T22:32:33.482019",
   "environment_variables": {},
   "exception": null,
   "input_path": "__notebook__.ipynb",
   "output_path": "__notebook__.ipynb",
   "parameters": {},
   "start_time": "2023-12-22T22:32:27.258891",
   "version": "2.4.0"
  }
 },
 "nbformat": 4,
 "nbformat_minor": 5
}
